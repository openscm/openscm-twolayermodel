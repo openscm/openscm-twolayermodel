{
 "cells": [
  {
   "cell_type": "markdown",
   "metadata": {},
   "source": [
    "# One layer model\n",
    "\n",
    "Here we show how to run our two-layer model as a single-layer model. There are two different ways to do this, which we present below."
   ]
  },
  {
   "cell_type": "markdown",
   "metadata": {},
   "source": [
    "## Imports and loading data"
   ]
  },
  {
   "cell_type": "code",
   "execution_count": 1,
   "metadata": {},
   "outputs": [
    {
     "name": "stderr",
     "output_type": "stream",
     "text": [
      "/Users/znicholls/Documents/AGCEC/MCastle/openscm-twolayermodel/venv/lib/python3.7/site-packages/ipykernel_launcher.py:7: TqdmExperimentalWarning: Using `tqdm.autonotebook.tqdm` in notebook mode. Use `tqdm.tqdm` instead to force console mode (e.g. in jupyter console)\n",
      "  import sys\n"
     ]
    }
   ],
   "source": [
    "# NBVAL_IGNORE_OUTPUT\n",
    "import os.path\n",
    "\n",
    "import numpy as np\n",
    "import pandas as pd\n",
    "from openscm_units import unit_registry as ur\n",
    "import tqdm.autonotebook as tqdman\n",
    "from scmdata import ScmRun, run_append\n",
    "\n",
    "from openscm_twolayermodel import TwoLayerModel\n",
    "\n",
    "import matplotlib.pyplot as plt"
   ]
  },
  {
   "cell_type": "markdown",
   "metadata": {},
   "source": [
    "For this we use an idealised scenario which is a reasonable representation of the forcing which occurs in response to an abrupt doubling in atmospheric CO$_2$ concentrations (often referred to as an abrupt-2xCO2 experiment)."
   ]
  },
  {
   "cell_type": "code",
   "execution_count": 2,
   "metadata": {},
   "outputs": [
    {
     "data": {
      "text/plain": [
       "<scmdata.ScmRun (timeseries: 1, timepoints: 2000)>\n",
       "Time:\n",
       "\tStart: 1850-01-01T00:00:00\n",
       "\tEnd: 3849-01-01T00:00:00\n",
       "Meta:\n",
       "\t       model region scenario   unit                     variable\n",
       "\t0  idealised  World  1pctCO2  W/m^2  Effective Radiative Forcing"
      ]
     },
     "execution_count": 2,
     "metadata": {},
     "output_type": "execute_result"
    }
   ],
   "source": [
    "run_length = 2000\n",
    "\n",
    "data = np.zeros(run_length)\n",
    "data[10 : ] = 4.0\n",
    "\n",
    "driver = ScmRun(\n",
    "    data=data,\n",
    "    index=1850 + np.arange(run_length),\n",
    "    columns={\n",
    "        \"unit\": \"W/m^2\",\n",
    "        \"model\": \"idealised\",\n",
    "        \"scenario\": \"1pctCO2\",\n",
    "        \"region\": \"World\",\n",
    "        \"variable\": \"Effective Radiative Forcing\",\n",
    "    },\n",
    ")\n",
    "driver"
   ]
  },
  {
   "cell_type": "code",
   "execution_count": 3,
   "metadata": {},
   "outputs": [
    {
     "data": {
      "text/plain": [
       "<AxesSubplot:xlabel='time', ylabel='W/m^2'>"
      ]
     },
     "execution_count": 3,
     "metadata": {},
     "output_type": "execute_result"
    },
    {
     "data": {
      "image/png": "[encoded data removed]",
      "text/plain": [
       "<Figure size 864x576 with 1 Axes>"
      ]
     },
     "metadata": {
      "needs_background": "light"
     },
     "output_type": "display_data"
    }
   ],
   "source": [
    "# NBVAL_IGNORE_OUTPUT\n",
    "fig = plt.figure(figsize=(12, 8))\n",
    "ax = fig.add_subplot(111)\n",
    "driver.filter(variable=\"Effective Radiative Forcing\").lineplot()"
   ]
  },
  {
   "cell_type": "markdown",
   "metadata": {},
   "source": [
    "## No second layer\n",
    "\n",
    "The first, and arguably the simplest way, to make a single layer model is to simply remove the connection between the top and second layers. Recalling the equations which define the two-layer model below,\n",
    "\n",
    "\\begin{align}\n",
    "C \\frac{dT}{dt} & = F - (\\lambda_0 - a T) T - \\epsilon \\eta (T - T_D) \\\\\n",
    "C_D \\frac{dT_D}{dt} & = \\eta (T - T_D)\n",
    "\\end{align}\n",
    "\n",
    "We see that we can effectively remove the second layer by setting $\\eta = 0$."
   ]
  },
  {
   "cell_type": "code",
   "execution_count": 4,
   "metadata": {},
   "outputs": [
    {
     "data": {
      "text/html": [
       "0.8 watt/(delta_degree_Celsius meter<sup>2</sup>)"
      ],
      "text/latex": [
       "$0.8\\ \\frac{\\mathrm{watt}}{\\left(\\mathrm{delta\\_degree\\_Celsius} \\cdot \\mathrm{meter}^{2}\\right)}$"
      ],
      "text/plain": [
       "0.8 <Unit('watt / delta_degree_Celsius / meter ** 2')>"
      ]
     },
     "execution_count": 4,
     "metadata": {},
     "output_type": "execute_result"
    }
   ],
   "source": [
    "TwoLayerModel().eta"
   ]
  },
  {
   "cell_type": "code",
   "execution_count": 5,
   "metadata": {},
   "outputs": [
    {
     "data": {
      "text/html": [
       "<table><tbody><tr><th>Magnitude</th><td style='text-align:left;'><pre>[0.0 0.8]</pre></td></tr><tr><th>Units</th><td style='text-align:left;'>watt/(kelvin meter<sup>2</sup>)</td></tr></tbody></table>"
      ],
      "text/latex": [
       "$\\begin{pmatrix}0.0 & 0.8\\end{pmatrix}\\ \\frac{\\mathrm{watt}}{\\left(\\mathrm{kelvin} \\cdot \\mathrm{meter}^{2}\\right)}$"
      ],
      "text/plain": [
       "array([0. , 0.8]) <Unit('watt / kelvin / meter ** 2')>"
      ]
     },
     "execution_count": 5,
     "metadata": {},
     "output_type": "execute_result"
    }
   ],
   "source": [
    "# NBVAL_IGNORE_OUTPUT\n",
    "eta_values = np.array([0, 0.8]) * ur(\"W/m^2/K\")\n",
    "eta_values"
   ]
  },
  {
   "cell_type": "code",
   "execution_count": 6,
   "metadata": {},
   "outputs": [
    {
     "data": {
      "text/html": [
       "<table><tbody><tr><th>Magnitude</th><td style='text-align:left;'><pre>[ 50 250 500]</pre></td></tr><tr><th>Units</th><td style='text-align:left;'>meter</td></tr></tbody></table>"
      ],
      "text/latex": [
       "$\\begin{pmatrix}50 & 250 & 500\\end{pmatrix}\\ \\mathrm{meter}$"
      ],
      "text/plain": [
       "array([ 50, 250, 500]) <Unit('meter')>"
      ]
     },
     "execution_count": 6,
     "metadata": {},
     "output_type": "execute_result"
    }
   ],
   "source": [
    "# NBVAL_IGNORE_OUTPUT\n",
    "du_values = np.array([50, 250, 500]) * ur(\"m\")\n",
    "du_values"
   ]
  },
  {
   "cell_type": "code",
   "execution_count": 7,
   "metadata": {},
   "outputs": [
    {
     "data": {
      "application/vnd.jupyter.widget-view+json": {
       "model_id": "",
       "version_major": 2,
       "version_minor": 0
      },
      "text/plain": [
       "HBox(children=(HTML(value='eta values'), FloatProgress(value=0.0, max=2.0), HTML(value='')))"
      ]
     },
     "metadata": {},
     "output_type": "display_data"
    },
    {
     "data": {
      "application/vnd.jupyter.widget-view+json": {
       "model_id": "",
       "version_major": 2,
       "version_minor": 0
      },
      "text/plain": [
       "HBox(children=(HTML(value='du values'), FloatProgress(value=0.0, max=3.0), HTML(value='')))"
      ]
     },
     "metadata": {},
     "output_type": "display_data"
    },
    {
     "data": {
      "application/vnd.jupyter.widget-view+json": {
       "model_id": "",
       "version_major": 2,
       "version_minor": 0
      },
      "text/plain": [
       "HBox(children=(HTML(value='scenarios'), FloatProgress(value=1.0, bar_style='info', layout=Layout(width='20px')…"
      ]
     },
     "metadata": {},
     "output_type": "display_data"
    },
    {
     "data": {
      "application/vnd.jupyter.widget-view+json": {
       "model_id": "",
       "version_major": 2,
       "version_minor": 0
      },
      "text/plain": [
       "HBox(children=(HTML(value='scenarios'), FloatProgress(value=1.0, bar_style='info', layout=Layout(width='20px')…"
      ]
     },
     "metadata": {},
     "output_type": "display_data"
    },
    {
     "data": {
      "application/vnd.jupyter.widget-view+json": {
       "model_id": "",
       "version_major": 2,
       "version_minor": 0
      },
      "text/plain": [
       "HBox(children=(HTML(value='scenarios'), FloatProgress(value=1.0, bar_style='info', layout=Layout(width='20px')…"
      ]
     },
     "metadata": {},
     "output_type": "display_data"
    },
    {
     "data": {
      "application/vnd.jupyter.widget-view+json": {
       "model_id": "",
       "version_major": 2,
       "version_minor": 0
      },
      "text/plain": [
       "HBox(children=(HTML(value='du values'), FloatProgress(value=0.0, max=3.0), HTML(value='')))"
      ]
     },
     "metadata": {},
     "output_type": "display_data"
    },
    {
     "data": {
      "application/vnd.jupyter.widget-view+json": {
       "model_id": "",
       "version_major": 2,
       "version_minor": 0
      },
      "text/plain": [
       "HBox(children=(HTML(value='scenarios'), FloatProgress(value=1.0, bar_style='info', layout=Layout(width='20px')…"
      ]
     },
     "metadata": {},
     "output_type": "display_data"
    },
    {
     "data": {
      "application/vnd.jupyter.widget-view+json": {
       "model_id": "",
       "version_major": 2,
       "version_minor": 0
      },
      "text/plain": [
       "HBox(children=(HTML(value='scenarios'), FloatProgress(value=1.0, bar_style='info', layout=Layout(width='20px')…"
      ]
     },
     "metadata": {},
     "output_type": "display_data"
    },
    {
     "data": {
      "application/vnd.jupyter.widget-view+json": {
       "model_id": "",
       "version_major": 2,
       "version_minor": 0
      },
      "text/plain": [
       "HBox(children=(HTML(value='scenarios'), FloatProgress(value=1.0, bar_style='info', layout=Layout(width='20px')…"
      ]
     },
     "metadata": {},
     "output_type": "display_data"
    },
    {
     "data": {
      "text/html": [
       "<div>\n",
       "<style scoped>\n",
       "    .dataframe tbody tr th:only-of-type {\n",
       "        vertical-align: middle;\n",
       "    }\n",
       "\n",
       "    .dataframe tbody tr th {\n",
       "        vertical-align: top;\n",
       "    }\n",
       "\n",
       "    .dataframe thead th {\n",
       "        text-align: right;\n",
       "    }\n",
       "</style>\n",
       "<table border=\"1\" class=\"dataframe\">\n",
       "  <thead>\n",
       "    <tr style=\"text-align: right;\">\n",
       "      <th></th>\n",
       "      <th></th>\n",
       "      <th></th>\n",
       "      <th></th>\n",
       "      <th></th>\n",
       "      <th></th>\n",
       "      <th></th>\n",
       "      <th></th>\n",
       "      <th></th>\n",
       "      <th></th>\n",
       "      <th></th>\n",
       "      <th></th>\n",
       "      <th>time</th>\n",
       "      <th>1850-01-01 00:00:00</th>\n",
       "      <th>1851-01-01 00:00:00</th>\n",
       "      <th>1852-01-01 00:00:00</th>\n",
       "      <th>1853-01-01 00:00:00</th>\n",
       "      <th>1854-01-01 00:00:00</th>\n",
       "      <th>1855-01-01 00:00:00</th>\n",
       "      <th>1856-01-01 00:00:00</th>\n",
       "      <th>1857-01-01 00:00:00</th>\n",
       "      <th>1858-01-01 00:00:00</th>\n",
       "      <th>1859-01-01 00:00:00</th>\n",
       "      <th>...</th>\n",
       "      <th>3840-01-01 00:00:00</th>\n",
       "      <th>3841-01-01 00:00:00</th>\n",
       "      <th>3842-01-01 00:00:00</th>\n",
       "      <th>3843-01-01 00:00:00</th>\n",
       "      <th>3844-01-01 00:00:00</th>\n",
       "      <th>3845-01-01 00:00:00</th>\n",
       "      <th>3846-01-01 00:00:00</th>\n",
       "      <th>3847-01-01 00:00:00</th>\n",
       "      <th>3848-01-01 00:00:00</th>\n",
       "      <th>3849-01-01 00:00:00</th>\n",
       "    </tr>\n",
       "    <tr>\n",
       "      <th>a (watt / delta_degree_Celsius ** 2 / meter ** 2)</th>\n",
       "      <th>climate_model</th>\n",
       "      <th>dl (meter)</th>\n",
       "      <th>du (meter)</th>\n",
       "      <th>efficacy (dimensionless)</th>\n",
       "      <th>eta (watt / kelvin / meter ** 2)</th>\n",
       "      <th>lambda0 (watt / delta_degree_Celsius / meter ** 2)</th>\n",
       "      <th>model</th>\n",
       "      <th>region</th>\n",
       "      <th>run_idx</th>\n",
       "      <th>scenario</th>\n",
       "      <th>unit</th>\n",
       "      <th>variable</th>\n",
       "      <th></th>\n",
       "      <th></th>\n",
       "      <th></th>\n",
       "      <th></th>\n",
       "      <th></th>\n",
       "      <th></th>\n",
       "      <th></th>\n",
       "      <th></th>\n",
       "      <th></th>\n",
       "      <th></th>\n",
       "      <th></th>\n",
       "      <th></th>\n",
       "      <th></th>\n",
       "      <th></th>\n",
       "      <th></th>\n",
       "      <th></th>\n",
       "      <th></th>\n",
       "      <th></th>\n",
       "      <th></th>\n",
       "      <th></th>\n",
       "      <th></th>\n",
       "    </tr>\n",
       "  </thead>\n",
       "  <tbody>\n",
       "    <tr>\n",
       "      <th rowspan=\"5\" valign=\"top\">0.0</th>\n",
       "      <th rowspan=\"5\" valign=\"top\">two_layer</th>\n",
       "      <th rowspan=\"5\" valign=\"top\">1200</th>\n",
       "      <th rowspan=\"4\" valign=\"top\">50</th>\n",
       "      <th rowspan=\"4\" valign=\"top\">1.0</th>\n",
       "      <th rowspan=\"4\" valign=\"top\">0.0</th>\n",
       "      <th rowspan=\"4\" valign=\"top\">1.246667</th>\n",
       "      <th rowspan=\"4\" valign=\"top\">idealised</th>\n",
       "      <th rowspan=\"4\" valign=\"top\">World</th>\n",
       "      <th rowspan=\"4\" valign=\"top\">0</th>\n",
       "      <th rowspan=\"4\" valign=\"top\">1pctCO2</th>\n",
       "      <th>W/m^2</th>\n",
       "      <th>Effective Radiative Forcing</th>\n",
       "      <td>0.0</td>\n",
       "      <td>0.0</td>\n",
       "      <td>0.0</td>\n",
       "      <td>0.0</td>\n",
       "      <td>0.0</td>\n",
       "      <td>0.0</td>\n",
       "      <td>0.0</td>\n",
       "      <td>0.0</td>\n",
       "      <td>0.0</td>\n",
       "      <td>0.0</td>\n",
       "      <td>...</td>\n",
       "      <td>4.000000</td>\n",
       "      <td>4.000000</td>\n",
       "      <td>4.000000</td>\n",
       "      <td>4.000000</td>\n",
       "      <td>4.000000</td>\n",
       "      <td>4.000000</td>\n",
       "      <td>4.000000</td>\n",
       "      <td>4.000000</td>\n",
       "      <td>4.000000</td>\n",
       "      <td>4.000000</td>\n",
       "    </tr>\n",
       "    <tr>\n",
       "      <th rowspan=\"2\" valign=\"top\">delta_degC</th>\n",
       "      <th>Surface Temperature|Upper</th>\n",
       "      <td>0.0</td>\n",
       "      <td>0.0</td>\n",
       "      <td>0.0</td>\n",
       "      <td>0.0</td>\n",
       "      <td>0.0</td>\n",
       "      <td>0.0</td>\n",
       "      <td>0.0</td>\n",
       "      <td>0.0</td>\n",
       "      <td>0.0</td>\n",
       "      <td>0.0</td>\n",
       "      <td>...</td>\n",
       "      <td>3.208556</td>\n",
       "      <td>3.208556</td>\n",
       "      <td>3.208556</td>\n",
       "      <td>3.208556</td>\n",
       "      <td>3.208556</td>\n",
       "      <td>3.208556</td>\n",
       "      <td>3.208556</td>\n",
       "      <td>3.208556</td>\n",
       "      <td>3.208556</td>\n",
       "      <td>3.208556</td>\n",
       "    </tr>\n",
       "    <tr>\n",
       "      <th>Surface Temperature|Lower</th>\n",
       "      <td>0.0</td>\n",
       "      <td>0.0</td>\n",
       "      <td>0.0</td>\n",
       "      <td>0.0</td>\n",
       "      <td>0.0</td>\n",
       "      <td>0.0</td>\n",
       "      <td>0.0</td>\n",
       "      <td>0.0</td>\n",
       "      <td>0.0</td>\n",
       "      <td>0.0</td>\n",
       "      <td>...</td>\n",
       "      <td>0.000000</td>\n",
       "      <td>0.000000</td>\n",
       "      <td>0.000000</td>\n",
       "      <td>0.000000</td>\n",
       "      <td>0.000000</td>\n",
       "      <td>0.000000</td>\n",
       "      <td>0.000000</td>\n",
       "      <td>0.000000</td>\n",
       "      <td>0.000000</td>\n",
       "      <td>0.000000</td>\n",
       "    </tr>\n",
       "    <tr>\n",
       "      <th>W/m^2</th>\n",
       "      <th>Heat Uptake</th>\n",
       "      <td>0.0</td>\n",
       "      <td>0.0</td>\n",
       "      <td>0.0</td>\n",
       "      <td>0.0</td>\n",
       "      <td>0.0</td>\n",
       "      <td>0.0</td>\n",
       "      <td>0.0</td>\n",
       "      <td>0.0</td>\n",
       "      <td>0.0</td>\n",
       "      <td>0.0</td>\n",
       "      <td>...</td>\n",
       "      <td>0.000000</td>\n",
       "      <td>0.000000</td>\n",
       "      <td>0.000000</td>\n",
       "      <td>0.000000</td>\n",
       "      <td>0.000000</td>\n",
       "      <td>0.000000</td>\n",
       "      <td>0.000000</td>\n",
       "      <td>0.000000</td>\n",
       "      <td>0.000000</td>\n",
       "      <td>0.000000</td>\n",
       "    </tr>\n",
       "    <tr>\n",
       "      <th>250</th>\n",
       "      <th>1.0</th>\n",
       "      <th>0.0</th>\n",
       "      <th>1.246667</th>\n",
       "      <th>idealised</th>\n",
       "      <th>World</th>\n",
       "      <th>0</th>\n",
       "      <th>1pctCO2</th>\n",
       "      <th>W/m^2</th>\n",
       "      <th>Effective Radiative Forcing</th>\n",
       "      <td>0.0</td>\n",
       "      <td>0.0</td>\n",
       "      <td>0.0</td>\n",
       "      <td>0.0</td>\n",
       "      <td>0.0</td>\n",
       "      <td>0.0</td>\n",
       "      <td>0.0</td>\n",
       "      <td>0.0</td>\n",
       "      <td>0.0</td>\n",
       "      <td>0.0</td>\n",
       "      <td>...</td>\n",
       "      <td>4.000000</td>\n",
       "      <td>4.000000</td>\n",
       "      <td>4.000000</td>\n",
       "      <td>4.000000</td>\n",
       "      <td>4.000000</td>\n",
       "      <td>4.000000</td>\n",
       "      <td>4.000000</td>\n",
       "      <td>4.000000</td>\n",
       "      <td>4.000000</td>\n",
       "      <td>4.000000</td>\n",
       "    </tr>\n",
       "  </tbody>\n",
       "</table>\n",
       "<p>5 rows × 2000 columns</p>\n",
       "</div>"
      ],
      "text/plain": [
       "time                                                                                                                                                                                                                                                                         1850-01-01 00:00:00  \\\n",
       "a (watt / delta_degree_Celsius ** 2 / meter ** 2) climate_model dl (meter) du (meter) efficacy (dimensionless) eta (watt / kelvin / meter ** 2) lambda0 (watt / delta_degree_Celsius / meter ** 2) model     region run_idx scenario unit       variable                                           \n",
       "0.0                                               two_layer     1200       50         1.0                      0.0                              1.246667                                           idealised World  0       1pctCO2  W/m^2      Effective Radiative Forcing                  0.0   \n",
       "                                                                                                                                                                                                                                     delta_degC Surface Temperature|Upper                    0.0   \n",
       "                                                                                                                                                                                                                                                Surface Temperature|Lower                    0.0   \n",
       "                                                                                                                                                                                                                                     W/m^2      Heat Uptake                                  0.0   \n",
       "                                                                           250        1.0                      0.0                              1.246667                                           idealised World  0       1pctCO2  W/m^2      Effective Radiative Forcing                  0.0   \n",
       "\n",
       "time                                                                                                                                                                                                                                                                         1851-01-01 00:00:00  \\\n",
       "a (watt / delta_degree_Celsius ** 2 / meter ** 2) climate_model dl (meter) du (meter) efficacy (dimensionless) eta (watt / kelvin / meter ** 2) lambda0 (watt / delta_degree_Celsius / meter ** 2) model     region run_idx scenario unit       variable                                           \n",
       "0.0                                               two_layer     1200       50         1.0                      0.0                              1.246667                                           idealised World  0       1pctCO2  W/m^2      Effective Radiative Forcing                  0.0   \n",
       "                                                                                                                                                                                                                                     delta_degC Surface Temperature|Upper                    0.0   \n",
       "                                                                                                                                                                                                                                                Surface Temperature|Lower                    0.0   \n",
       "                                                                                                                                                                                                                                     W/m^2      Heat Uptake                                  0.0   \n",
       "                                                                           250        1.0                      0.0                              1.246667                                           idealised World  0       1pctCO2  W/m^2      Effective Radiative Forcing                  0.0   \n",
       "\n",
       "time                                                                                                                                                                                                                                                                         1852-01-01 00:00:00  \\\n",
       "a (watt / delta_degree_Celsius ** 2 / meter ** 2) climate_model dl (meter) du (meter) efficacy (dimensionless) eta (watt / kelvin / meter ** 2) lambda0 (watt / delta_degree_Celsius / meter ** 2) model     region run_idx scenario unit       variable                                           \n",
       "0.0                                               two_layer     1200       50         1.0                      0.0                              1.246667                                           idealised World  0       1pctCO2  W/m^2      Effective Radiative Forcing                  0.0   \n",
       "                                                                                                                                                                                                                                     delta_degC Surface Temperature|Upper                    0.0   \n",
       "                                                                                                                                                                                                                                                Surface Temperature|Lower                    0.0   \n",
       "                                                                                                                                                                                                                                     W/m^2      Heat Uptake                                  0.0   \n",
       "                                                                           250        1.0                      0.0                              1.246667                                           idealised World  0       1pctCO2  W/m^2      Effective Radiative Forcing                  0.0   \n",
       "\n",
       "time                                                                                                                                                                                                                                                                         1853-01-01 00:00:00  \\\n",
       "a (watt / delta_degree_Celsius ** 2 / meter ** 2) climate_model dl (meter) du (meter) efficacy (dimensionless) eta (watt / kelvin / meter ** 2) lambda0 (watt / delta_degree_Celsius / meter ** 2) model     region run_idx scenario unit       variable                                           \n",
       "0.0                                               two_layer     1200       50         1.0                      0.0                              1.246667                                           idealised World  0       1pctCO2  W/m^2      Effective Radiative Forcing                  0.0   \n",
       "                                                                                                                                                                                                                                     delta_degC Surface Temperature|Upper                    0.0   \n",
       "                                                                                                                                                                                                                                                Surface Temperature|Lower                    0.0   \n",
       "                                                                                                                                                                                                                                     W/m^2      Heat Uptake                                  0.0   \n",
       "                                                                           250        1.0                      0.0                              1.246667                                           idealised World  0       1pctCO2  W/m^2      Effective Radiative Forcing                  0.0   \n",
       "\n",
       "time                                                                                                                                                                                                                                                                         1854-01-01 00:00:00  \\\n",
       "a (watt / delta_degree_Celsius ** 2 / meter ** 2) climate_model dl (meter) du (meter) efficacy (dimensionless) eta (watt / kelvin / meter ** 2) lambda0 (watt / delta_degree_Celsius / meter ** 2) model     region run_idx scenario unit       variable                                           \n",
       "0.0                                               two_layer     1200       50         1.0                      0.0                              1.246667                                           idealised World  0       1pctCO2  W/m^2      Effective Radiative Forcing                  0.0   \n",
       "                                                                                                                                                                                                                                     delta_degC Surface Temperature|Upper                    0.0   \n",
       "                                                                                                                                                                                                                                                Surface Temperature|Lower                    0.0   \n",
       "                                                                                                                                                                                                                                     W/m^2      Heat Uptake                                  0.0   \n",
       "                                                                           250        1.0                      0.0                              1.246667                                           idealised World  0       1pctCO2  W/m^2      Effective Radiative Forcing                  0.0   \n",
       "\n",
       "time                                                                                                                                                                                                                                                                         1855-01-01 00:00:00  \\\n",
       "a (watt / delta_degree_Celsius ** 2 / meter ** 2) climate_model dl (meter) du (meter) efficacy (dimensionless) eta (watt / kelvin / meter ** 2) lambda0 (watt / delta_degree_Celsius / meter ** 2) model     region run_idx scenario unit       variable                                           \n",
       "0.0                                               two_layer     1200       50         1.0                      0.0                              1.246667                                           idealised World  0       1pctCO2  W/m^2      Effective Radiative Forcing                  0.0   \n",
       "                                                                                                                                                                                                                                     delta_degC Surface Temperature|Upper                    0.0   \n",
       "                                                                                                                                                                                                                                                Surface Temperature|Lower                    0.0   \n",
       "                                                                                                                                                                                                                                     W/m^2      Heat Uptake                                  0.0   \n",
       "                                                                           250        1.0                      0.0                              1.246667                                           idealised World  0       1pctCO2  W/m^2      Effective Radiative Forcing                  0.0   \n",
       "\n",
       "time                                                                                                                                                                                                                                                                         1856-01-01 00:00:00  \\\n",
       "a (watt / delta_degree_Celsius ** 2 / meter ** 2) climate_model dl (meter) du (meter) efficacy (dimensionless) eta (watt / kelvin / meter ** 2) lambda0 (watt / delta_degree_Celsius / meter ** 2) model     region run_idx scenario unit       variable                                           \n",
       "0.0                                               two_layer     1200       50         1.0                      0.0                              1.246667                                           idealised World  0       1pctCO2  W/m^2      Effective Radiative Forcing                  0.0   \n",
       "                                                                                                                                                                                                                                     delta_degC Surface Temperature|Upper                    0.0   \n",
       "                                                                                                                                                                                                                                                Surface Temperature|Lower                    0.0   \n",
       "                                                                                                                                                                                                                                     W/m^2      Heat Uptake                                  0.0   \n",
       "                                                                           250        1.0                      0.0                              1.246667                                           idealised World  0       1pctCO2  W/m^2      Effective Radiative Forcing                  0.0   \n",
       "\n",
       "time                                                                                                                                                                                                                                                                         1857-01-01 00:00:00  \\\n",
       "a (watt / delta_degree_Celsius ** 2 / meter ** 2) climate_model dl (meter) du (meter) efficacy (dimensionless) eta (watt / kelvin / meter ** 2) lambda0 (watt / delta_degree_Celsius / meter ** 2) model     region run_idx scenario unit       variable                                           \n",
       "0.0                                               two_layer     1200       50         1.0                      0.0                              1.246667                                           idealised World  0       1pctCO2  W/m^2      Effective Radiative Forcing                  0.0   \n",
       "                                                                                                                                                                                                                                     delta_degC Surface Temperature|Upper                    0.0   \n",
       "                                                                                                                                                                                                                                                Surface Temperature|Lower                    0.0   \n",
       "                                                                                                                                                                                                                                     W/m^2      Heat Uptake                                  0.0   \n",
       "                                                                           250        1.0                      0.0                              1.246667                                           idealised World  0       1pctCO2  W/m^2      Effective Radiative Forcing                  0.0   \n",
       "\n",
       "time                                                                                                                                                                                                                                                                         1858-01-01 00:00:00  \\\n",
       "a (watt / delta_degree_Celsius ** 2 / meter ** 2) climate_model dl (meter) du (meter) efficacy (dimensionless) eta (watt / kelvin / meter ** 2) lambda0 (watt / delta_degree_Celsius / meter ** 2) model     region run_idx scenario unit       variable                                           \n",
       "0.0                                               two_layer     1200       50         1.0                      0.0                              1.246667                                           idealised World  0       1pctCO2  W/m^2      Effective Radiative Forcing                  0.0   \n",
       "                                                                                                                                                                                                                                     delta_degC Surface Temperature|Upper                    0.0   \n",
       "                                                                                                                                                                                                                                                Surface Temperature|Lower                    0.0   \n",
       "                                                                                                                                                                                                                                     W/m^2      Heat Uptake                                  0.0   \n",
       "                                                                           250        1.0                      0.0                              1.246667                                           idealised World  0       1pctCO2  W/m^2      Effective Radiative Forcing                  0.0   \n",
       "\n",
       "time                                                                                                                                                                                                                                                                         1859-01-01 00:00:00  \\\n",
       "a (watt / delta_degree_Celsius ** 2 / meter ** 2) climate_model dl (meter) du (meter) efficacy (dimensionless) eta (watt / kelvin / meter ** 2) lambda0 (watt / delta_degree_Celsius / meter ** 2) model     region run_idx scenario unit       variable                                           \n",
       "0.0                                               two_layer     1200       50         1.0                      0.0                              1.246667                                           idealised World  0       1pctCO2  W/m^2      Effective Radiative Forcing                  0.0   \n",
       "                                                                                                                                                                                                                                     delta_degC Surface Temperature|Upper                    0.0   \n",
       "                                                                                                                                                                                                                                                Surface Temperature|Lower                    0.0   \n",
       "                                                                                                                                                                                                                                     W/m^2      Heat Uptake                                  0.0   \n",
       "                                                                           250        1.0                      0.0                              1.246667                                           idealised World  0       1pctCO2  W/m^2      Effective Radiative Forcing                  0.0   \n",
       "\n",
       "time                                                                                                                                                                                                                                                                         ...  \\\n",
       "a (watt / delta_degree_Celsius ** 2 / meter ** 2) climate_model dl (meter) du (meter) efficacy (dimensionless) eta (watt / kelvin / meter ** 2) lambda0 (watt / delta_degree_Celsius / meter ** 2) model     region run_idx scenario unit       variable                     ...   \n",
       "0.0                                               two_layer     1200       50         1.0                      0.0                              1.246667                                           idealised World  0       1pctCO2  W/m^2      Effective Radiative Forcing  ...   \n",
       "                                                                                                                                                                                                                                     delta_degC Surface Temperature|Upper    ...   \n",
       "                                                                                                                                                                                                                                                Surface Temperature|Lower    ...   \n",
       "                                                                                                                                                                                                                                     W/m^2      Heat Uptake                  ...   \n",
       "                                                                           250        1.0                      0.0                              1.246667                                           idealised World  0       1pctCO2  W/m^2      Effective Radiative Forcing  ...   \n",
       "\n",
       "time                                                                                                                                                                                                                                                                         3840-01-01 00:00:00  \\\n",
       "a (watt / delta_degree_Celsius ** 2 / meter ** 2) climate_model dl (meter) du (meter) efficacy (dimensionless) eta (watt / kelvin / meter ** 2) lambda0 (watt / delta_degree_Celsius / meter ** 2) model     region run_idx scenario unit       variable                                           \n",
       "0.0                                               two_layer     1200       50         1.0                      0.0                              1.246667                                           idealised World  0       1pctCO2  W/m^2      Effective Radiative Forcing             4.000000   \n",
       "                                                                                                                                                                                                                                     delta_degC Surface Temperature|Upper               3.208556   \n",
       "                                                                                                                                                                                                                                                Surface Temperature|Lower               0.000000   \n",
       "                                                                                                                                                                                                                                     W/m^2      Heat Uptake                             0.000000   \n",
       "                                                                           250        1.0                      0.0                              1.246667                                           idealised World  0       1pctCO2  W/m^2      Effective Radiative Forcing             4.000000   \n",
       "\n",
       "time                                                                                                                                                                                                                                                                         3841-01-01 00:00:00  \\\n",
       "a (watt / delta_degree_Celsius ** 2 / meter ** 2) climate_model dl (meter) du (meter) efficacy (dimensionless) eta (watt / kelvin / meter ** 2) lambda0 (watt / delta_degree_Celsius / meter ** 2) model     region run_idx scenario unit       variable                                           \n",
       "0.0                                               two_layer     1200       50         1.0                      0.0                              1.246667                                           idealised World  0       1pctCO2  W/m^2      Effective Radiative Forcing             4.000000   \n",
       "                                                                                                                                                                                                                                     delta_degC Surface Temperature|Upper               3.208556   \n",
       "                                                                                                                                                                                                                                                Surface Temperature|Lower               0.000000   \n",
       "                                                                                                                                                                                                                                     W/m^2      Heat Uptake                             0.000000   \n",
       "                                                                           250        1.0                      0.0                              1.246667                                           idealised World  0       1pctCO2  W/m^2      Effective Radiative Forcing             4.000000   \n",
       "\n",
       "time                                                                                                                                                                                                                                                                         3842-01-01 00:00:00  \\\n",
       "a (watt / delta_degree_Celsius ** 2 / meter ** 2) climate_model dl (meter) du (meter) efficacy (dimensionless) eta (watt / kelvin / meter ** 2) lambda0 (watt / delta_degree_Celsius / meter ** 2) model     region run_idx scenario unit       variable                                           \n",
       "0.0                                               two_layer     1200       50         1.0                      0.0                              1.246667                                           idealised World  0       1pctCO2  W/m^2      Effective Radiative Forcing             4.000000   \n",
       "                                                                                                                                                                                                                                     delta_degC Surface Temperature|Upper               3.208556   \n",
       "                                                                                                                                                                                                                                                Surface Temperature|Lower               0.000000   \n",
       "                                                                                                                                                                                                                                     W/m^2      Heat Uptake                             0.000000   \n",
       "                                                                           250        1.0                      0.0                              1.246667                                           idealised World  0       1pctCO2  W/m^2      Effective Radiative Forcing             4.000000   \n",
       "\n",
       "time                                                                                                                                                                                                                                                                         3843-01-01 00:00:00  \\\n",
       "a (watt / delta_degree_Celsius ** 2 / meter ** 2) climate_model dl (meter) du (meter) efficacy (dimensionless) eta (watt / kelvin / meter ** 2) lambda0 (watt / delta_degree_Celsius / meter ** 2) model     region run_idx scenario unit       variable                                           \n",
       "0.0                                               two_layer     1200       50         1.0                      0.0                              1.246667                                           idealised World  0       1pctCO2  W/m^2      Effective Radiative Forcing             4.000000   \n",
       "                                                                                                                                                                                                                                     delta_degC Surface Temperature|Upper               3.208556   \n",
       "                                                                                                                                                                                                                                                Surface Temperature|Lower               0.000000   \n",
       "                                                                                                                                                                                                                                     W/m^2      Heat Uptake                             0.000000   \n",
       "                                                                           250        1.0                      0.0                              1.246667                                           idealised World  0       1pctCO2  W/m^2      Effective Radiative Forcing             4.000000   \n",
       "\n",
       "time                                                                                                                                                                                                                                                                         3844-01-01 00:00:00  \\\n",
       "a (watt / delta_degree_Celsius ** 2 / meter ** 2) climate_model dl (meter) du (meter) efficacy (dimensionless) eta (watt / kelvin / meter ** 2) lambda0 (watt / delta_degree_Celsius / meter ** 2) model     region run_idx scenario unit       variable                                           \n",
       "0.0                                               two_layer     1200       50         1.0                      0.0                              1.246667                                           idealised World  0       1pctCO2  W/m^2      Effective Radiative Forcing             4.000000   \n",
       "                                                                                                                                                                                                                                     delta_degC Surface Temperature|Upper               3.208556   \n",
       "                                                                                                                                                                                                                                                Surface Temperature|Lower               0.000000   \n",
       "                                                                                                                                                                                                                                     W/m^2      Heat Uptake                             0.000000   \n",
       "                                                                           250        1.0                      0.0                              1.246667                                           idealised World  0       1pctCO2  W/m^2      Effective Radiative Forcing             4.000000   \n",
       "\n",
       "time                                                                                                                                                                                                                                                                         3845-01-01 00:00:00  \\\n",
       "a (watt / delta_degree_Celsius ** 2 / meter ** 2) climate_model dl (meter) du (meter) efficacy (dimensionless) eta (watt / kelvin / meter ** 2) lambda0 (watt / delta_degree_Celsius / meter ** 2) model     region run_idx scenario unit       variable                                           \n",
       "0.0                                               two_layer     1200       50         1.0                      0.0                              1.246667                                           idealised World  0       1pctCO2  W/m^2      Effective Radiative Forcing             4.000000   \n",
       "                                                                                                                                                                                                                                     delta_degC Surface Temperature|Upper               3.208556   \n",
       "                                                                                                                                                                                                                                                Surface Temperature|Lower               0.000000   \n",
       "                                                                                                                                                                                                                                     W/m^2      Heat Uptake                             0.000000   \n",
       "                                                                           250        1.0                      0.0                              1.246667                                           idealised World  0       1pctCO2  W/m^2      Effective Radiative Forcing             4.000000   \n",
       "\n",
       "time                                                                                                                                                                                                                                                                         3846-01-01 00:00:00  \\\n",
       "a (watt / delta_degree_Celsius ** 2 / meter ** 2) climate_model dl (meter) du (meter) efficacy (dimensionless) eta (watt / kelvin / meter ** 2) lambda0 (watt / delta_degree_Celsius / meter ** 2) model     region run_idx scenario unit       variable                                           \n",
       "0.0                                               two_layer     1200       50         1.0                      0.0                              1.246667                                           idealised World  0       1pctCO2  W/m^2      Effective Radiative Forcing             4.000000   \n",
       "                                                                                                                                                                                                                                     delta_degC Surface Temperature|Upper               3.208556   \n",
       "                                                                                                                                                                                                                                                Surface Temperature|Lower               0.000000   \n",
       "                                                                                                                                                                                                                                     W/m^2      Heat Uptake                             0.000000   \n",
       "                                                                           250        1.0                      0.0                              1.246667                                           idealised World  0       1pctCO2  W/m^2      Effective Radiative Forcing             4.000000   \n",
       "\n",
       "time                                                                                                                                                                                                                                                                         3847-01-01 00:00:00  \\\n",
       "a (watt / delta_degree_Celsius ** 2 / meter ** 2) climate_model dl (meter) du (meter) efficacy (dimensionless) eta (watt / kelvin / meter ** 2) lambda0 (watt / delta_degree_Celsius / meter ** 2) model     region run_idx scenario unit       variable                                           \n",
       "0.0                                               two_layer     1200       50         1.0                      0.0                              1.246667                                           idealised World  0       1pctCO2  W/m^2      Effective Radiative Forcing             4.000000   \n",
       "                                                                                                                                                                                                                                     delta_degC Surface Temperature|Upper               3.208556   \n",
       "                                                                                                                                                                                                                                                Surface Temperature|Lower               0.000000   \n",
       "                                                                                                                                                                                                                                     W/m^2      Heat Uptake                             0.000000   \n",
       "                                                                           250        1.0                      0.0                              1.246667                                           idealised World  0       1pctCO2  W/m^2      Effective Radiative Forcing             4.000000   \n",
       "\n",
       "time                                                                                                                                                                                                                                                                         3848-01-01 00:00:00  \\\n",
       "a (watt / delta_degree_Celsius ** 2 / meter ** 2) climate_model dl (meter) du (meter) efficacy (dimensionless) eta (watt / kelvin / meter ** 2) lambda0 (watt / delta_degree_Celsius / meter ** 2) model     region run_idx scenario unit       variable                                           \n",
       "0.0                                               two_layer     1200       50         1.0                      0.0                              1.246667                                           idealised World  0       1pctCO2  W/m^2      Effective Radiative Forcing             4.000000   \n",
       "                                                                                                                                                                                                                                     delta_degC Surface Temperature|Upper               3.208556   \n",
       "                                                                                                                                                                                                                                                Surface Temperature|Lower               0.000000   \n",
       "                                                                                                                                                                                                                                     W/m^2      Heat Uptake                             0.000000   \n",
       "                                                                           250        1.0                      0.0                              1.246667                                           idealised World  0       1pctCO2  W/m^2      Effective Radiative Forcing             4.000000   \n",
       "\n",
       "time                                                                                                                                                                                                                                                                         3849-01-01 00:00:00  \n",
       "a (watt / delta_degree_Celsius ** 2 / meter ** 2) climate_model dl (meter) du (meter) efficacy (dimensionless) eta (watt / kelvin / meter ** 2) lambda0 (watt / delta_degree_Celsius / meter ** 2) model     region run_idx scenario unit       variable                                          \n",
       "0.0                                               two_layer     1200       50         1.0                      0.0                              1.246667                                           idealised World  0       1pctCO2  W/m^2      Effective Radiative Forcing             4.000000  \n",
       "                                                                                                                                                                                                                                     delta_degC Surface Temperature|Upper               3.208556  \n",
       "                                                                                                                                                                                                                                                Surface Temperature|Lower               0.000000  \n",
       "                                                                                                                                                                                                                                     W/m^2      Heat Uptake                             0.000000  \n",
       "                                                                           250        1.0                      0.0                              1.246667                                           idealised World  0       1pctCO2  W/m^2      Effective Radiative Forcing             4.000000  \n",
       "\n",
       "[5 rows x 2000 columns]"
      ]
     },
     "execution_count": 7,
     "metadata": {},
     "output_type": "execute_result"
    }
   ],
   "source": [
    "# NBVAL_IGNORE_OUTPUT\n",
    "runner = TwoLayerModel()\n",
    "output = []\n",
    "equivalent_parameters = []\n",
    "for eta in tqdman.tqdm(eta_values, desc=\"eta values\", leave=False):\n",
    "    runner.eta = eta\n",
    "    for du in tqdman.tqdm(du_values, desc=\"du values\", leave=False):\n",
    "        runner.du = du\n",
    "        output.append(runner.run_scenarios(driver))\n",
    "\n",
    "output = run_append(output)\n",
    "output.head()"
   ]
  },
  {
   "cell_type": "markdown",
   "metadata": {},
   "source": [
    "As we can see in the plots below, the runs with $\\eta = 0$ only have a single timescale in their response. In contrast, the runs with $\\eta \\neq 0$ have two clear, distinct timescales. Notably, because equilibrium warming is independent of ocean heat uptake, the equilibrium warming is the same in all cases.\n",
    "\n",
    "As expected, we see that the depth of the mixed-layer affects the response time of the mixed-layer (the only response time in the case of $\\eta = 0$) whilst having a much smaller effect on the response time of the deep ocean."
   ]
  },
  {
   "cell_type": "code",
   "execution_count": 8,
   "metadata": {},
   "outputs": [
    {
     "data": {
      "image/png": "[encoded data removed]",
      "text/plain": [
       "<Figure size 648x648 with 2 Axes>"
      ]
     },
     "metadata": {
      "needs_background": "light"
     },
     "output_type": "display_data"
    }
   ],
   "source": [
    "# NBVAL_IGNORE_OUTPUT\n",
    "scenario_to_plot = \"1pctCO2\"\n",
    "xlim = [1850, 3500]\n",
    "pkwargs = dict(\n",
    "    hue=\"du (meter)\", \n",
    "    style=\"eta (watt / kelvin / meter ** 2)\", \n",
    "    time_axis=\"year\"\n",
    ")\n",
    "fig = plt.figure(figsize=(9, 9))\n",
    "\n",
    "ax = fig.add_subplot(211)\n",
    "output.filter(scenario=scenario_to_plot, variable=\"Surface Temperature|Upper\").lineplot(**pkwargs, ax=ax)\n",
    "ax.set_title(\"Surface Temperature|Upper\")\n",
    "\n",
    "ax = fig.add_subplot(212, sharex=ax)\n",
    "output.filter(scenario=scenario_to_plot, variable=\"Heat Uptake\").lineplot(**pkwargs, ax=ax)\n",
    "ax.set_title(\"Heat Uptake\")\n",
    "ax.set_xlim(xlim)\n",
    "\n",
    "plt.tight_layout()"
   ]
  },
  {
   "cell_type": "markdown",
   "metadata": {},
   "source": [
    "## Infinite reservoir second layer\n",
    "\n",
    "If we make the deep ocean component of the two-layer model infinitely deep, then we also have a single layer model. The concept is described by Equation 4 of [Geoffroy et al. 2013, Part 1](https://journals.ametsoc.org/doi/10.1175/JCLI-D-12-00195.1).\n",
    "\n",
    "\\begin{align}\n",
    "C \\frac{dT}{dt} & = F - (\\lambda_0 - a T) T - \\epsilon \\eta (T - T_D) \\\\\n",
    "C_D \\frac{dT_D}{dt} & = \\eta (T - T_D)\n",
    "\\end{align}\n",
    "\n",
    "In short, if $C_D \\rightarrow \\infty$, then $T_D = 0$ and the equation governing the mixed layer response becomes\n",
    "\n",
    "\\begin{align}\n",
    "C \\frac{dT}{dt} & = F - (\\lambda_0 - a T) T - \\epsilon \\eta T\n",
    "\\end{align}\n",
    "\n",
    "In effect, we alter the climate feedback factor from $\\lambda_0 - a T$ to $\\lambda_0 - a T + \\epsilon \\eta$ we increase the climate feedback factor and hence lower the equilibrium climate sensitivity."
   ]
  },
  {
   "cell_type": "code",
   "execution_count": 9,
   "metadata": {},
   "outputs": [
    {
     "data": {
      "text/html": [
       "<table><tbody><tr><th>Magnitude</th><td style='text-align:left;'><pre>[            1000            10000           100000 1000000000000000]</pre></td></tr><tr><th>Units</th><td style='text-align:left;'>meter</td></tr></tbody></table>"
      ],
      "text/latex": [
       "$\\begin{pmatrix}1000 & 10000 & 100000 & 1000000000000000\\end{pmatrix}\\ \\mathrm{meter}$"
      ],
      "text/plain": [
       "array([            1000,            10000,           100000,\n",
       "       1000000000000000]) <Unit('meter')>"
      ]
     },
     "execution_count": 9,
     "metadata": {},
     "output_type": "execute_result"
    }
   ],
   "source": [
    "# NBVAL_IGNORE_OUTPUT\n",
    "dl_values = np.array([10 ** 3, 10 ** 4, 10 ** 5, 10 ** 15]) * ur(\"m\")\n",
    "dl_values"
   ]
  },
  {
   "cell_type": "code",
   "execution_count": 10,
   "metadata": {},
   "outputs": [
    {
     "data": {
      "application/vnd.jupyter.widget-view+json": {
       "model_id": "",
       "version_major": 2,
       "version_minor": 0
      },
      "text/plain": [
       "HBox(children=(HTML(value='dl values'), FloatProgress(value=0.0, max=4.0), HTML(value='')))"
      ]
     },
     "metadata": {},
     "output_type": "display_data"
    },
    {
     "data": {
      "application/vnd.jupyter.widget-view+json": {
       "model_id": "",
       "version_major": 2,
       "version_minor": 0
      },
      "text/plain": [
       "HBox(children=(HTML(value='scenarios'), FloatProgress(value=1.0, bar_style='info', layout=Layout(width='20px')…"
      ]
     },
     "metadata": {},
     "output_type": "display_data"
    },
    {
     "data": {
      "application/vnd.jupyter.widget-view+json": {
       "model_id": "",
       "version_major": 2,
       "version_minor": 0
      },
      "text/plain": [
       "HBox(children=(HTML(value='scenarios'), FloatProgress(value=1.0, bar_style='info', layout=Layout(width='20px')…"
      ]
     },
     "metadata": {},
     "output_type": "display_data"
    },
    {
     "data": {
      "application/vnd.jupyter.widget-view+json": {
       "model_id": "",
       "version_major": 2,
       "version_minor": 0
      },
      "text/plain": [
       "HBox(children=(HTML(value='scenarios'), FloatProgress(value=1.0, bar_style='info', layout=Layout(width='20px')…"
      ]
     },
     "metadata": {},
     "output_type": "display_data"
    },
    {
     "data": {
      "application/vnd.jupyter.widget-view+json": {
       "model_id": "",
       "version_major": 2,
       "version_minor": 0
      },
      "text/plain": [
       "HBox(children=(HTML(value='scenarios'), FloatProgress(value=1.0, bar_style='info', layout=Layout(width='20px')…"
      ]
     },
     "metadata": {},
     "output_type": "display_data"
    },
    {
     "data": {
      "text/html": [
       "<div>\n",
       "<style scoped>\n",
       "    .dataframe tbody tr th:only-of-type {\n",
       "        vertical-align: middle;\n",
       "    }\n",
       "\n",
       "    .dataframe tbody tr th {\n",
       "        vertical-align: top;\n",
       "    }\n",
       "\n",
       "    .dataframe thead th {\n",
       "        text-align: right;\n",
       "    }\n",
       "</style>\n",
       "<table border=\"1\" class=\"dataframe\">\n",
       "  <thead>\n",
       "    <tr style=\"text-align: right;\">\n",
       "      <th></th>\n",
       "      <th></th>\n",
       "      <th></th>\n",
       "      <th></th>\n",
       "      <th></th>\n",
       "      <th></th>\n",
       "      <th></th>\n",
       "      <th></th>\n",
       "      <th></th>\n",
       "      <th></th>\n",
       "      <th></th>\n",
       "      <th></th>\n",
       "      <th>time</th>\n",
       "      <th>1850-01-01 00:00:00</th>\n",
       "      <th>1851-01-01 00:00:00</th>\n",
       "      <th>1852-01-01 00:00:00</th>\n",
       "      <th>1853-01-01 00:00:00</th>\n",
       "      <th>1854-01-01 00:00:00</th>\n",
       "      <th>1855-01-01 00:00:00</th>\n",
       "      <th>1856-01-01 00:00:00</th>\n",
       "      <th>1857-01-01 00:00:00</th>\n",
       "      <th>1858-01-01 00:00:00</th>\n",
       "      <th>1859-01-01 00:00:00</th>\n",
       "      <th>...</th>\n",
       "      <th>3840-01-01 00:00:00</th>\n",
       "      <th>3841-01-01 00:00:00</th>\n",
       "      <th>3842-01-01 00:00:00</th>\n",
       "      <th>3843-01-01 00:00:00</th>\n",
       "      <th>3844-01-01 00:00:00</th>\n",
       "      <th>3845-01-01 00:00:00</th>\n",
       "      <th>3846-01-01 00:00:00</th>\n",
       "      <th>3847-01-01 00:00:00</th>\n",
       "      <th>3848-01-01 00:00:00</th>\n",
       "      <th>3849-01-01 00:00:00</th>\n",
       "    </tr>\n",
       "    <tr>\n",
       "      <th>a (watt / delta_degree_Celsius ** 2 / meter ** 2)</th>\n",
       "      <th>climate_model</th>\n",
       "      <th>dl (meter)</th>\n",
       "      <th>du (meter)</th>\n",
       "      <th>efficacy (dimensionless)</th>\n",
       "      <th>eta (watt / delta_degree_Celsius / meter ** 2)</th>\n",
       "      <th>lambda0 (watt / delta_degree_Celsius / meter ** 2)</th>\n",
       "      <th>model</th>\n",
       "      <th>region</th>\n",
       "      <th>run_idx</th>\n",
       "      <th>scenario</th>\n",
       "      <th>unit</th>\n",
       "      <th>variable</th>\n",
       "      <th></th>\n",
       "      <th></th>\n",
       "      <th></th>\n",
       "      <th></th>\n",
       "      <th></th>\n",
       "      <th></th>\n",
       "      <th></th>\n",
       "      <th></th>\n",
       "      <th></th>\n",
       "      <th></th>\n",
       "      <th></th>\n",
       "      <th></th>\n",
       "      <th></th>\n",
       "      <th></th>\n",
       "      <th></th>\n",
       "      <th></th>\n",
       "      <th></th>\n",
       "      <th></th>\n",
       "      <th></th>\n",
       "      <th></th>\n",
       "      <th></th>\n",
       "    </tr>\n",
       "  </thead>\n",
       "  <tbody>\n",
       "    <tr>\n",
       "      <th rowspan=\"5\" valign=\"top\">0.0</th>\n",
       "      <th rowspan=\"5\" valign=\"top\">two_layer</th>\n",
       "      <th rowspan=\"4\" valign=\"top\">1000</th>\n",
       "      <th rowspan=\"4\" valign=\"top\">50</th>\n",
       "      <th rowspan=\"4\" valign=\"top\">1.0</th>\n",
       "      <th rowspan=\"4\" valign=\"top\">0.8</th>\n",
       "      <th rowspan=\"4\" valign=\"top\">1.246667</th>\n",
       "      <th rowspan=\"4\" valign=\"top\">idealised</th>\n",
       "      <th rowspan=\"4\" valign=\"top\">World</th>\n",
       "      <th rowspan=\"4\" valign=\"top\">0</th>\n",
       "      <th rowspan=\"4\" valign=\"top\">1pctCO2</th>\n",
       "      <th>W/m^2</th>\n",
       "      <th>Effective Radiative Forcing</th>\n",
       "      <td>0.0</td>\n",
       "      <td>0.0</td>\n",
       "      <td>0.0</td>\n",
       "      <td>0.0</td>\n",
       "      <td>0.0</td>\n",
       "      <td>0.0</td>\n",
       "      <td>0.0</td>\n",
       "      <td>0.0</td>\n",
       "      <td>0.0</td>\n",
       "      <td>0.0</td>\n",
       "      <td>...</td>\n",
       "      <td>4.000000</td>\n",
       "      <td>4.000000</td>\n",
       "      <td>4.000000</td>\n",
       "      <td>4.000000</td>\n",
       "      <td>4.000000</td>\n",
       "      <td>4.000000</td>\n",
       "      <td>4.000000</td>\n",
       "      <td>4.000000</td>\n",
       "      <td>4.000000</td>\n",
       "      <td>4.000000</td>\n",
       "    </tr>\n",
       "    <tr>\n",
       "      <th rowspan=\"2\" valign=\"top\">delta_degC</th>\n",
       "      <th>Surface Temperature|Upper</th>\n",
       "      <td>0.0</td>\n",
       "      <td>0.0</td>\n",
       "      <td>0.0</td>\n",
       "      <td>0.0</td>\n",
       "      <td>0.0</td>\n",
       "      <td>0.0</td>\n",
       "      <td>0.0</td>\n",
       "      <td>0.0</td>\n",
       "      <td>0.0</td>\n",
       "      <td>0.0</td>\n",
       "      <td>...</td>\n",
       "      <td>3.207635</td>\n",
       "      <td>3.207638</td>\n",
       "      <td>3.207642</td>\n",
       "      <td>3.207645</td>\n",
       "      <td>3.207648</td>\n",
       "      <td>3.207652</td>\n",
       "      <td>3.207655</td>\n",
       "      <td>3.207658</td>\n",
       "      <td>3.207661</td>\n",
       "      <td>3.207665</td>\n",
       "    </tr>\n",
       "    <tr>\n",
       "      <th>Surface Temperature|Lower</th>\n",
       "      <td>0.0</td>\n",
       "      <td>0.0</td>\n",
       "      <td>0.0</td>\n",
       "      <td>0.0</td>\n",
       "      <td>0.0</td>\n",
       "      <td>0.0</td>\n",
       "      <td>0.0</td>\n",
       "      <td>0.0</td>\n",
       "      <td>0.0</td>\n",
       "      <td>0.0</td>\n",
       "      <td>...</td>\n",
       "      <td>3.206227</td>\n",
       "      <td>3.206236</td>\n",
       "      <td>3.206244</td>\n",
       "      <td>3.206252</td>\n",
       "      <td>3.206261</td>\n",
       "      <td>3.206269</td>\n",
       "      <td>3.206278</td>\n",
       "      <td>3.206286</td>\n",
       "      <td>3.206294</td>\n",
       "      <td>3.206302</td>\n",
       "    </tr>\n",
       "    <tr>\n",
       "      <th>W/m^2</th>\n",
       "      <th>Heat Uptake</th>\n",
       "      <td>0.0</td>\n",
       "      <td>0.0</td>\n",
       "      <td>0.0</td>\n",
       "      <td>0.0</td>\n",
       "      <td>0.0</td>\n",
       "      <td>0.0</td>\n",
       "      <td>0.0</td>\n",
       "      <td>0.0</td>\n",
       "      <td>0.0</td>\n",
       "      <td>0.0</td>\n",
       "      <td>...</td>\n",
       "      <td>0.001153</td>\n",
       "      <td>0.001149</td>\n",
       "      <td>0.001144</td>\n",
       "      <td>0.001140</td>\n",
       "      <td>0.001136</td>\n",
       "      <td>0.001132</td>\n",
       "      <td>0.001128</td>\n",
       "      <td>0.001124</td>\n",
       "      <td>0.001120</td>\n",
       "      <td>0.001115</td>\n",
       "    </tr>\n",
       "    <tr>\n",
       "      <th>10000</th>\n",
       "      <th>50</th>\n",
       "      <th>1.0</th>\n",
       "      <th>0.8</th>\n",
       "      <th>1.246667</th>\n",
       "      <th>idealised</th>\n",
       "      <th>World</th>\n",
       "      <th>0</th>\n",
       "      <th>1pctCO2</th>\n",
       "      <th>W/m^2</th>\n",
       "      <th>Effective Radiative Forcing</th>\n",
       "      <td>0.0</td>\n",
       "      <td>0.0</td>\n",
       "      <td>0.0</td>\n",
       "      <td>0.0</td>\n",
       "      <td>0.0</td>\n",
       "      <td>0.0</td>\n",
       "      <td>0.0</td>\n",
       "      <td>0.0</td>\n",
       "      <td>0.0</td>\n",
       "      <td>0.0</td>\n",
       "      <td>...</td>\n",
       "      <td>4.000000</td>\n",
       "      <td>4.000000</td>\n",
       "      <td>4.000000</td>\n",
       "      <td>4.000000</td>\n",
       "      <td>4.000000</td>\n",
       "      <td>4.000000</td>\n",
       "      <td>4.000000</td>\n",
       "      <td>4.000000</td>\n",
       "      <td>4.000000</td>\n",
       "      <td>4.000000</td>\n",
       "    </tr>\n",
       "  </tbody>\n",
       "</table>\n",
       "<p>5 rows × 2000 columns</p>\n",
       "</div>"
      ],
      "text/plain": [
       "time                                                                                                                                                                                                                                                                                       1850-01-01 00:00:00  \\\n",
       "a (watt / delta_degree_Celsius ** 2 / meter ** 2) climate_model dl (meter) du (meter) efficacy (dimensionless) eta (watt / delta_degree_Celsius / meter ** 2) lambda0 (watt / delta_degree_Celsius / meter ** 2) model     region run_idx scenario unit       variable                                           \n",
       "0.0                                               two_layer     1000       50         1.0                      0.8                                            1.246667                                           idealised World  0       1pctCO2  W/m^2      Effective Radiative Forcing                  0.0   \n",
       "                                                                                                                                                                                                                                                   delta_degC Surface Temperature|Upper                    0.0   \n",
       "                                                                                                                                                                                                                                                              Surface Temperature|Lower                    0.0   \n",
       "                                                                                                                                                                                                                                                   W/m^2      Heat Uptake                                  0.0   \n",
       "                                                                10000      50         1.0                      0.8                                            1.246667                                           idealised World  0       1pctCO2  W/m^2      Effective Radiative Forcing                  0.0   \n",
       "\n",
       "time                                                                                                                                                                                                                                                                                       1851-01-01 00:00:00  \\\n",
       "a (watt / delta_degree_Celsius ** 2 / meter ** 2) climate_model dl (meter) du (meter) efficacy (dimensionless) eta (watt / delta_degree_Celsius / meter ** 2) lambda0 (watt / delta_degree_Celsius / meter ** 2) model     region run_idx scenario unit       variable                                           \n",
       "0.0                                               two_layer     1000       50         1.0                      0.8                                            1.246667                                           idealised World  0       1pctCO2  W/m^2      Effective Radiative Forcing                  0.0   \n",
       "                                                                                                                                                                                                                                                   delta_degC Surface Temperature|Upper                    0.0   \n",
       "                                                                                                                                                                                                                                                              Surface Temperature|Lower                    0.0   \n",
       "                                                                                                                                                                                                                                                   W/m^2      Heat Uptake                                  0.0   \n",
       "                                                                10000      50         1.0                      0.8                                            1.246667                                           idealised World  0       1pctCO2  W/m^2      Effective Radiative Forcing                  0.0   \n",
       "\n",
       "time                                                                                                                                                                                                                                                                                       1852-01-01 00:00:00  \\\n",
       "a (watt / delta_degree_Celsius ** 2 / meter ** 2) climate_model dl (meter) du (meter) efficacy (dimensionless) eta (watt / delta_degree_Celsius / meter ** 2) lambda0 (watt / delta_degree_Celsius / meter ** 2) model     region run_idx scenario unit       variable                                           \n",
       "0.0                                               two_layer     1000       50         1.0                      0.8                                            1.246667                                           idealised World  0       1pctCO2  W/m^2      Effective Radiative Forcing                  0.0   \n",
       "                                                                                                                                                                                                                                                   delta_degC Surface Temperature|Upper                    0.0   \n",
       "                                                                                                                                                                                                                                                              Surface Temperature|Lower                    0.0   \n",
       "                                                                                                                                                                                                                                                   W/m^2      Heat Uptake                                  0.0   \n",
       "                                                                10000      50         1.0                      0.8                                            1.246667                                           idealised World  0       1pctCO2  W/m^2      Effective Radiative Forcing                  0.0   \n",
       "\n",
       "time                                                                                                                                                                                                                                                                                       1853-01-01 00:00:00  \\\n",
       "a (watt / delta_degree_Celsius ** 2 / meter ** 2) climate_model dl (meter) du (meter) efficacy (dimensionless) eta (watt / delta_degree_Celsius / meter ** 2) lambda0 (watt / delta_degree_Celsius / meter ** 2) model     region run_idx scenario unit       variable                                           \n",
       "0.0                                               two_layer     1000       50         1.0                      0.8                                            1.246667                                           idealised World  0       1pctCO2  W/m^2      Effective Radiative Forcing                  0.0   \n",
       "                                                                                                                                                                                                                                                   delta_degC Surface Temperature|Upper                    0.0   \n",
       "                                                                                                                                                                                                                                                              Surface Temperature|Lower                    0.0   \n",
       "                                                                                                                                                                                                                                                   W/m^2      Heat Uptake                                  0.0   \n",
       "                                                                10000      50         1.0                      0.8                                            1.246667                                           idealised World  0       1pctCO2  W/m^2      Effective Radiative Forcing                  0.0   \n",
       "\n",
       "time                                                                                                                                                                                                                                                                                       1854-01-01 00:00:00  \\\n",
       "a (watt / delta_degree_Celsius ** 2 / meter ** 2) climate_model dl (meter) du (meter) efficacy (dimensionless) eta (watt / delta_degree_Celsius / meter ** 2) lambda0 (watt / delta_degree_Celsius / meter ** 2) model     region run_idx scenario unit       variable                                           \n",
       "0.0                                               two_layer     1000       50         1.0                      0.8                                            1.246667                                           idealised World  0       1pctCO2  W/m^2      Effective Radiative Forcing                  0.0   \n",
       "                                                                                                                                                                                                                                                   delta_degC Surface Temperature|Upper                    0.0   \n",
       "                                                                                                                                                                                                                                                              Surface Temperature|Lower                    0.0   \n",
       "                                                                                                                                                                                                                                                   W/m^2      Heat Uptake                                  0.0   \n",
       "                                                                10000      50         1.0                      0.8                                            1.246667                                           idealised World  0       1pctCO2  W/m^2      Effective Radiative Forcing                  0.0   \n",
       "\n",
       "time                                                                                                                                                                                                                                                                                       1855-01-01 00:00:00  \\\n",
       "a (watt / delta_degree_Celsius ** 2 / meter ** 2) climate_model dl (meter) du (meter) efficacy (dimensionless) eta (watt / delta_degree_Celsius / meter ** 2) lambda0 (watt / delta_degree_Celsius / meter ** 2) model     region run_idx scenario unit       variable                                           \n",
       "0.0                                               two_layer     1000       50         1.0                      0.8                                            1.246667                                           idealised World  0       1pctCO2  W/m^2      Effective Radiative Forcing                  0.0   \n",
       "                                                                                                                                                                                                                                                   delta_degC Surface Temperature|Upper                    0.0   \n",
       "                                                                                                                                                                                                                                                              Surface Temperature|Lower                    0.0   \n",
       "                                                                                                                                                                                                                                                   W/m^2      Heat Uptake                                  0.0   \n",
       "                                                                10000      50         1.0                      0.8                                            1.246667                                           idealised World  0       1pctCO2  W/m^2      Effective Radiative Forcing                  0.0   \n",
       "\n",
       "time                                                                                                                                                                                                                                                                                       1856-01-01 00:00:00  \\\n",
       "a (watt / delta_degree_Celsius ** 2 / meter ** 2) climate_model dl (meter) du (meter) efficacy (dimensionless) eta (watt / delta_degree_Celsius / meter ** 2) lambda0 (watt / delta_degree_Celsius / meter ** 2) model     region run_idx scenario unit       variable                                           \n",
       "0.0                                               two_layer     1000       50         1.0                      0.8                                            1.246667                                           idealised World  0       1pctCO2  W/m^2      Effective Radiative Forcing                  0.0   \n",
       "                                                                                                                                                                                                                                                   delta_degC Surface Temperature|Upper                    0.0   \n",
       "                                                                                                                                                                                                                                                              Surface Temperature|Lower                    0.0   \n",
       "                                                                                                                                                                                                                                                   W/m^2      Heat Uptake                                  0.0   \n",
       "                                                                10000      50         1.0                      0.8                                            1.246667                                           idealised World  0       1pctCO2  W/m^2      Effective Radiative Forcing                  0.0   \n",
       "\n",
       "time                                                                                                                                                                                                                                                                                       1857-01-01 00:00:00  \\\n",
       "a (watt / delta_degree_Celsius ** 2 / meter ** 2) climate_model dl (meter) du (meter) efficacy (dimensionless) eta (watt / delta_degree_Celsius / meter ** 2) lambda0 (watt / delta_degree_Celsius / meter ** 2) model     region run_idx scenario unit       variable                                           \n",
       "0.0                                               two_layer     1000       50         1.0                      0.8                                            1.246667                                           idealised World  0       1pctCO2  W/m^2      Effective Radiative Forcing                  0.0   \n",
       "                                                                                                                                                                                                                                                   delta_degC Surface Temperature|Upper                    0.0   \n",
       "                                                                                                                                                                                                                                                              Surface Temperature|Lower                    0.0   \n",
       "                                                                                                                                                                                                                                                   W/m^2      Heat Uptake                                  0.0   \n",
       "                                                                10000      50         1.0                      0.8                                            1.246667                                           idealised World  0       1pctCO2  W/m^2      Effective Radiative Forcing                  0.0   \n",
       "\n",
       "time                                                                                                                                                                                                                                                                                       1858-01-01 00:00:00  \\\n",
       "a (watt / delta_degree_Celsius ** 2 / meter ** 2) climate_model dl (meter) du (meter) efficacy (dimensionless) eta (watt / delta_degree_Celsius / meter ** 2) lambda0 (watt / delta_degree_Celsius / meter ** 2) model     region run_idx scenario unit       variable                                           \n",
       "0.0                                               two_layer     1000       50         1.0                      0.8                                            1.246667                                           idealised World  0       1pctCO2  W/m^2      Effective Radiative Forcing                  0.0   \n",
       "                                                                                                                                                                                                                                                   delta_degC Surface Temperature|Upper                    0.0   \n",
       "                                                                                                                                                                                                                                                              Surface Temperature|Lower                    0.0   \n",
       "                                                                                                                                                                                                                                                   W/m^2      Heat Uptake                                  0.0   \n",
       "                                                                10000      50         1.0                      0.8                                            1.246667                                           idealised World  0       1pctCO2  W/m^2      Effective Radiative Forcing                  0.0   \n",
       "\n",
       "time                                                                                                                                                                                                                                                                                       1859-01-01 00:00:00  \\\n",
       "a (watt / delta_degree_Celsius ** 2 / meter ** 2) climate_model dl (meter) du (meter) efficacy (dimensionless) eta (watt / delta_degree_Celsius / meter ** 2) lambda0 (watt / delta_degree_Celsius / meter ** 2) model     region run_idx scenario unit       variable                                           \n",
       "0.0                                               two_layer     1000       50         1.0                      0.8                                            1.246667                                           idealised World  0       1pctCO2  W/m^2      Effective Radiative Forcing                  0.0   \n",
       "                                                                                                                                                                                                                                                   delta_degC Surface Temperature|Upper                    0.0   \n",
       "                                                                                                                                                                                                                                                              Surface Temperature|Lower                    0.0   \n",
       "                                                                                                                                                                                                                                                   W/m^2      Heat Uptake                                  0.0   \n",
       "                                                                10000      50         1.0                      0.8                                            1.246667                                           idealised World  0       1pctCO2  W/m^2      Effective Radiative Forcing                  0.0   \n",
       "\n",
       "time                                                                                                                                                                                                                                                                                       ...  \\\n",
       "a (watt / delta_degree_Celsius ** 2 / meter ** 2) climate_model dl (meter) du (meter) efficacy (dimensionless) eta (watt / delta_degree_Celsius / meter ** 2) lambda0 (watt / delta_degree_Celsius / meter ** 2) model     region run_idx scenario unit       variable                     ...   \n",
       "0.0                                               two_layer     1000       50         1.0                      0.8                                            1.246667                                           idealised World  0       1pctCO2  W/m^2      Effective Radiative Forcing  ...   \n",
       "                                                                                                                                                                                                                                                   delta_degC Surface Temperature|Upper    ...   \n",
       "                                                                                                                                                                                                                                                              Surface Temperature|Lower    ...   \n",
       "                                                                                                                                                                                                                                                   W/m^2      Heat Uptake                  ...   \n",
       "                                                                10000      50         1.0                      0.8                                            1.246667                                           idealised World  0       1pctCO2  W/m^2      Effective Radiative Forcing  ...   \n",
       "\n",
       "time                                                                                                                                                                                                                                                                                       3840-01-01 00:00:00  \\\n",
       "a (watt / delta_degree_Celsius ** 2 / meter ** 2) climate_model dl (meter) du (meter) efficacy (dimensionless) eta (watt / delta_degree_Celsius / meter ** 2) lambda0 (watt / delta_degree_Celsius / meter ** 2) model     region run_idx scenario unit       variable                                           \n",
       "0.0                                               two_layer     1000       50         1.0                      0.8                                            1.246667                                           idealised World  0       1pctCO2  W/m^2      Effective Radiative Forcing             4.000000   \n",
       "                                                                                                                                                                                                                                                   delta_degC Surface Temperature|Upper               3.207635   \n",
       "                                                                                                                                                                                                                                                              Surface Temperature|Lower               3.206227   \n",
       "                                                                                                                                                                                                                                                   W/m^2      Heat Uptake                             0.001153   \n",
       "                                                                10000      50         1.0                      0.8                                            1.246667                                           idealised World  0       1pctCO2  W/m^2      Effective Radiative Forcing             4.000000   \n",
       "\n",
       "time                                                                                                                                                                                                                                                                                       3841-01-01 00:00:00  \\\n",
       "a (watt / delta_degree_Celsius ** 2 / meter ** 2) climate_model dl (meter) du (meter) efficacy (dimensionless) eta (watt / delta_degree_Celsius / meter ** 2) lambda0 (watt / delta_degree_Celsius / meter ** 2) model     region run_idx scenario unit       variable                                           \n",
       "0.0                                               two_layer     1000       50         1.0                      0.8                                            1.246667                                           idealised World  0       1pctCO2  W/m^2      Effective Radiative Forcing             4.000000   \n",
       "                                                                                                                                                                                                                                                   delta_degC Surface Temperature|Upper               3.207638   \n",
       "                                                                                                                                                                                                                                                              Surface Temperature|Lower               3.206236   \n",
       "                                                                                                                                                                                                                                                   W/m^2      Heat Uptake                             0.001149   \n",
       "                                                                10000      50         1.0                      0.8                                            1.246667                                           idealised World  0       1pctCO2  W/m^2      Effective Radiative Forcing             4.000000   \n",
       "\n",
       "time                                                                                                                                                                                                                                                                                       3842-01-01 00:00:00  \\\n",
       "a (watt / delta_degree_Celsius ** 2 / meter ** 2) climate_model dl (meter) du (meter) efficacy (dimensionless) eta (watt / delta_degree_Celsius / meter ** 2) lambda0 (watt / delta_degree_Celsius / meter ** 2) model     region run_idx scenario unit       variable                                           \n",
       "0.0                                               two_layer     1000       50         1.0                      0.8                                            1.246667                                           idealised World  0       1pctCO2  W/m^2      Effective Radiative Forcing             4.000000   \n",
       "                                                                                                                                                                                                                                                   delta_degC Surface Temperature|Upper               3.207642   \n",
       "                                                                                                                                                                                                                                                              Surface Temperature|Lower               3.206244   \n",
       "                                                                                                                                                                                                                                                   W/m^2      Heat Uptake                             0.001144   \n",
       "                                                                10000      50         1.0                      0.8                                            1.246667                                           idealised World  0       1pctCO2  W/m^2      Effective Radiative Forcing             4.000000   \n",
       "\n",
       "time                                                                                                                                                                                                                                                                                       3843-01-01 00:00:00  \\\n",
       "a (watt / delta_degree_Celsius ** 2 / meter ** 2) climate_model dl (meter) du (meter) efficacy (dimensionless) eta (watt / delta_degree_Celsius / meter ** 2) lambda0 (watt / delta_degree_Celsius / meter ** 2) model     region run_idx scenario unit       variable                                           \n",
       "0.0                                               two_layer     1000       50         1.0                      0.8                                            1.246667                                           idealised World  0       1pctCO2  W/m^2      Effective Radiative Forcing             4.000000   \n",
       "                                                                                                                                                                                                                                                   delta_degC Surface Temperature|Upper               3.207645   \n",
       "                                                                                                                                                                                                                                                              Surface Temperature|Lower               3.206252   \n",
       "                                                                                                                                                                                                                                                   W/m^2      Heat Uptake                             0.001140   \n",
       "                                                                10000      50         1.0                      0.8                                            1.246667                                           idealised World  0       1pctCO2  W/m^2      Effective Radiative Forcing             4.000000   \n",
       "\n",
       "time                                                                                                                                                                                                                                                                                       3844-01-01 00:00:00  \\\n",
       "a (watt / delta_degree_Celsius ** 2 / meter ** 2) climate_model dl (meter) du (meter) efficacy (dimensionless) eta (watt / delta_degree_Celsius / meter ** 2) lambda0 (watt / delta_degree_Celsius / meter ** 2) model     region run_idx scenario unit       variable                                           \n",
       "0.0                                               two_layer     1000       50         1.0                      0.8                                            1.246667                                           idealised World  0       1pctCO2  W/m^2      Effective Radiative Forcing             4.000000   \n",
       "                                                                                                                                                                                                                                                   delta_degC Surface Temperature|Upper               3.207648   \n",
       "                                                                                                                                                                                                                                                              Surface Temperature|Lower               3.206261   \n",
       "                                                                                                                                                                                                                                                   W/m^2      Heat Uptake                             0.001136   \n",
       "                                                                10000      50         1.0                      0.8                                            1.246667                                           idealised World  0       1pctCO2  W/m^2      Effective Radiative Forcing             4.000000   \n",
       "\n",
       "time                                                                                                                                                                                                                                                                                       3845-01-01 00:00:00  \\\n",
       "a (watt / delta_degree_Celsius ** 2 / meter ** 2) climate_model dl (meter) du (meter) efficacy (dimensionless) eta (watt / delta_degree_Celsius / meter ** 2) lambda0 (watt / delta_degree_Celsius / meter ** 2) model     region run_idx scenario unit       variable                                           \n",
       "0.0                                               two_layer     1000       50         1.0                      0.8                                            1.246667                                           idealised World  0       1pctCO2  W/m^2      Effective Radiative Forcing             4.000000   \n",
       "                                                                                                                                                                                                                                                   delta_degC Surface Temperature|Upper               3.207652   \n",
       "                                                                                                                                                                                                                                                              Surface Temperature|Lower               3.206269   \n",
       "                                                                                                                                                                                                                                                   W/m^2      Heat Uptake                             0.001132   \n",
       "                                                                10000      50         1.0                      0.8                                            1.246667                                           idealised World  0       1pctCO2  W/m^2      Effective Radiative Forcing             4.000000   \n",
       "\n",
       "time                                                                                                                                                                                                                                                                                       3846-01-01 00:00:00  \\\n",
       "a (watt / delta_degree_Celsius ** 2 / meter ** 2) climate_model dl (meter) du (meter) efficacy (dimensionless) eta (watt / delta_degree_Celsius / meter ** 2) lambda0 (watt / delta_degree_Celsius / meter ** 2) model     region run_idx scenario unit       variable                                           \n",
       "0.0                                               two_layer     1000       50         1.0                      0.8                                            1.246667                                           idealised World  0       1pctCO2  W/m^2      Effective Radiative Forcing             4.000000   \n",
       "                                                                                                                                                                                                                                                   delta_degC Surface Temperature|Upper               3.207655   \n",
       "                                                                                                                                                                                                                                                              Surface Temperature|Lower               3.206278   \n",
       "                                                                                                                                                                                                                                                   W/m^2      Heat Uptake                             0.001128   \n",
       "                                                                10000      50         1.0                      0.8                                            1.246667                                           idealised World  0       1pctCO2  W/m^2      Effective Radiative Forcing             4.000000   \n",
       "\n",
       "time                                                                                                                                                                                                                                                                                       3847-01-01 00:00:00  \\\n",
       "a (watt / delta_degree_Celsius ** 2 / meter ** 2) climate_model dl (meter) du (meter) efficacy (dimensionless) eta (watt / delta_degree_Celsius / meter ** 2) lambda0 (watt / delta_degree_Celsius / meter ** 2) model     region run_idx scenario unit       variable                                           \n",
       "0.0                                               two_layer     1000       50         1.0                      0.8                                            1.246667                                           idealised World  0       1pctCO2  W/m^2      Effective Radiative Forcing             4.000000   \n",
       "                                                                                                                                                                                                                                                   delta_degC Surface Temperature|Upper               3.207658   \n",
       "                                                                                                                                                                                                                                                              Surface Temperature|Lower               3.206286   \n",
       "                                                                                                                                                                                                                                                   W/m^2      Heat Uptake                             0.001124   \n",
       "                                                                10000      50         1.0                      0.8                                            1.246667                                           idealised World  0       1pctCO2  W/m^2      Effective Radiative Forcing             4.000000   \n",
       "\n",
       "time                                                                                                                                                                                                                                                                                       3848-01-01 00:00:00  \\\n",
       "a (watt / delta_degree_Celsius ** 2 / meter ** 2) climate_model dl (meter) du (meter) efficacy (dimensionless) eta (watt / delta_degree_Celsius / meter ** 2) lambda0 (watt / delta_degree_Celsius / meter ** 2) model     region run_idx scenario unit       variable                                           \n",
       "0.0                                               two_layer     1000       50         1.0                      0.8                                            1.246667                                           idealised World  0       1pctCO2  W/m^2      Effective Radiative Forcing             4.000000   \n",
       "                                                                                                                                                                                                                                                   delta_degC Surface Temperature|Upper               3.207661   \n",
       "                                                                                                                                                                                                                                                              Surface Temperature|Lower               3.206294   \n",
       "                                                                                                                                                                                                                                                   W/m^2      Heat Uptake                             0.001120   \n",
       "                                                                10000      50         1.0                      0.8                                            1.246667                                           idealised World  0       1pctCO2  W/m^2      Effective Radiative Forcing             4.000000   \n",
       "\n",
       "time                                                                                                                                                                                                                                                                                       3849-01-01 00:00:00  \n",
       "a (watt / delta_degree_Celsius ** 2 / meter ** 2) climate_model dl (meter) du (meter) efficacy (dimensionless) eta (watt / delta_degree_Celsius / meter ** 2) lambda0 (watt / delta_degree_Celsius / meter ** 2) model     region run_idx scenario unit       variable                                          \n",
       "0.0                                               two_layer     1000       50         1.0                      0.8                                            1.246667                                           idealised World  0       1pctCO2  W/m^2      Effective Radiative Forcing             4.000000  \n",
       "                                                                                                                                                                                                                                                   delta_degC Surface Temperature|Upper               3.207665  \n",
       "                                                                                                                                                                                                                                                              Surface Temperature|Lower               3.206302  \n",
       "                                                                                                                                                                                                                                                   W/m^2      Heat Uptake                             0.001115  \n",
       "                                                                10000      50         1.0                      0.8                                            1.246667                                           idealised World  0       1pctCO2  W/m^2      Effective Radiative Forcing             4.000000  \n",
       "\n",
       "[5 rows x 2000 columns]"
      ]
     },
     "execution_count": 10,
     "metadata": {},
     "output_type": "execute_result"
    }
   ],
   "source": [
    "# NBVAL_IGNORE_OUTPUT\n",
    "runner = TwoLayerModel()\n",
    "output = []\n",
    "equivalent_parameters = []\n",
    "for dl in tqdman.tqdm(dl_values, desc=\"dl values\", leave=False):\n",
    "    runner.dl = dl\n",
    "    output.append(runner.run_scenarios(driver))\n",
    "    equivalent_parameters.append(({\"two-layer deep ocean depth\": runner.dl}, runner.get_impulse_response_parameters()))\n",
    "\n",
    "output = run_append(output)\n",
    "output.head()"
   ]
  },
  {
   "cell_type": "markdown",
   "metadata": {},
   "source": [
    "As we can see below, as the deep ocean becomes deeper and deeper, its equivalent timescale increases. This demonstrates that the deep ocean is becoming increasingly close to being an infinite reservoir."
   ]
  },
  {
   "cell_type": "code",
   "execution_count": 11,
   "metadata": {},
   "outputs": [
    {
     "data": {
      "text/plain": [
       "[({'two-layer deep ocean depth': 1000 <Unit('meter')>},\n",
       "  {'d1': 3.211845269334279 <Unit('a')>,\n",
       "   'd2': 273.9854219906419 <Unit('a')>,\n",
       "   'q1': 0.4810875417166762 <Unit('delta_degree_Celsius * meter ** 2 / watt')>,\n",
       "   'q2': 0.32105149571648217 <Unit('delta_degree_Celsius * meter ** 2 / watt')>,\n",
       "   'efficacy': 1.0 <Unit('dimensionless')>}),\n",
       " ({'two-layer deep ocean depth': 10000 <Unit('meter')>},\n",
       "  {'d1': 3.2342013046041056 <Unit('a')>,\n",
       "   'd2': 2720.915300585768 <Unit('a')>,\n",
       "   'q1': 0.4878523568580023 <Unit('delta_degree_Celsius * meter ** 2 / watt')>,\n",
       "   'q2': 0.3142866805751838 <Unit('delta_degree_Celsius * meter ** 2 / watt')>,\n",
       "   'efficacy': 1.0 <Unit('dimensionless')>}),\n",
       " ({'two-layer deep ocean depth': 100000 <Unit('meter')>},\n",
       "  {'d1': 3.2364276918618766 <Unit('a')>,\n",
       "   'd2': 27190.435420502465 <Unit('a')>,\n",
       "   'q1': 0.4885246922441889 <Unit('delta_degree_Celsius * meter ** 2 / watt')>,\n",
       "   'q2': 0.31361434518885845 <Unit('delta_degree_Celsius * meter ** 2 / watt')>,\n",
       "   'efficacy': 1.0 <Unit('dimensionless')>}),\n",
       " ({'two-layer deep ocean depth': 1000000000000000 <Unit('meter')>},\n",
       "  {'d1': 3.238959349323281 <Unit('a')>,\n",
       "   'd2': 271883581625601.66 <Unit('a')>,\n",
       "   'q1': 0.4889441930744013 <Unit('delta_degree_Celsius * meter ** 2 / watt')>,\n",
       "   'q2': 0.31555972744518723 <Unit('delta_degree_Celsius * meter ** 2 / watt')>,\n",
       "   'efficacy': 1.0 <Unit('dimensionless')>})]"
      ]
     },
     "execution_count": 11,
     "metadata": {},
     "output_type": "execute_result"
    }
   ],
   "source": [
    "for v in equivalent_parameters:\n",
    "    v[1][\"d1\"] = v[1][\"d1\"].to(\"yr\")\n",
    "    v[1][\"d2\"] = v[1][\"d2\"].to(\"yr\")\n",
    "    \n",
    "equivalent_parameters"
   ]
  },
  {
   "cell_type": "markdown",
   "metadata": {},
   "source": [
    "As shown in the plots below, as the deep ocean becomes bigger, it can uptake more heat and hence mixed-layer warming is reduced. However, whilst the deep ocean is finite, the mixed-layer warming does eventually reach the same equilibrium (independent of deep ocean depth), it just takes longer to do so. Once the deep ocean becomes infinite, as discussed above, we effectively have a single-layer model with an increased climate feedback factor (lower equilibrium climate sensitivity) which can uptake heat forever."
   ]
  },
  {
   "cell_type": "code",
   "execution_count": 12,
   "metadata": {},
   "outputs": [
    {
     "data": {
      "text/plain": [
       "(1850.0, 3500.0)"
      ]
     },
     "execution_count": 12,
     "metadata": {},
     "output_type": "execute_result"
    },
    {
     "data": {
      "image/png": "[encoded data removed]",
      "text/plain": [
       "<Figure size 648x648 with 2 Axes>"
      ]
     },
     "metadata": {
      "needs_background": "light"
     },
     "output_type": "display_data"
    }
   ],
   "source": [
    "# NBVAL_IGNORE_OUTPUT\n",
    "scenario_to_plot = \"1pctCO2\"\n",
    "xlim = [1850, 3500]\n",
    "pkwargs = dict(\n",
    "    hue=\"dl (meter)\", \n",
    "    style=\"variable\", \n",
    "    time_axis=\"year\"\n",
    ")\n",
    "fig = plt.figure(figsize=(9, 9))\n",
    "\n",
    "ax = fig.add_subplot(211)\n",
    "output.filter(scenario=scenario_to_plot, variable=\"Surface Temperature|Upper\").lineplot(**pkwargs, ax=ax)\n",
    "\n",
    "ax = fig.add_subplot(212, sharex=ax)\n",
    "output.filter(scenario=scenario_to_plot, variable=\"Heat Uptake\").lineplot(**pkwargs, ax=ax)\n",
    "ax.set_xlim(xlim)"
   ]
  }
 ],
 "metadata": {
  "kernelspec": {
   "display_name": "Python 3",
   "language": "python",
   "name": "python3"
  },
  "language_info": {
   "codemirror_mode": {
    "name": "ipython",
    "version": 3
   },
   "file_extension": ".py",
   "mimetype": "text/x-python",
   "name": "python",
   "nbconvert_exporter": "python",
   "pygments_lexer": "ipython3",
   "version": "3.7.9"
  }
 },
 "nbformat": 4,
 "nbformat_minor": 4
}
